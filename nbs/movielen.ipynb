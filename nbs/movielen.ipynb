{
 "cells": [
  {
   "cell_type": "code",
   "execution_count": 1,
   "metadata": {},
   "outputs": [],
   "source": [
    "import pandas as pd\n",
    "import torch\n",
    "from torchctr.layers import EmbeddingLayer, EmbeddingDropout\n",
    "from torchctr.datasets import (FeatureDict, get_movielens, make_datasets, read_data, defaults, fillna, make_dataloader, DataMeta)"
   ]
  },
  {
   "cell_type": "markdown",
   "metadata": {},
   "source": [
    "## step 1: download dataset"
   ]
  },
  {
   "cell_type": "code",
   "execution_count": 2,
   "metadata": {},
   "outputs": [
    {
     "name": "stdout",
     "output_type": "stream",
     "text": [
      "Downloading...\n",
      "Using downloaded and verified file: ../datasets/ml-1m/raw/ml-1m.zip\n",
      "Extracting...\n",
      "Done!\n"
     ]
    }
   ],
   "source": [
    "root = get_movielens('../datasets', 'ml-1m')"
   ]
  },
  {
   "cell_type": "markdown",
   "metadata": {},
   "source": [
    "## step 2: read data"
   ]
  },
  {
   "cell_type": "code",
   "execution_count": 3,
   "metadata": {},
   "outputs": [],
   "source": [
    "users = read_data(root / 'users.dat', sep='::', names=['UserID', 'Gender', 'Age', 'Occupation', 'Zip-code'])\n",
    "movies = read_data(root / 'movies.dat', sep='::', names=['MovieID', 'Title', 'Genres'])\n",
    "ratings = read_data(root / 'ratings.dat', sep='::', names=['UserID', 'MovieID', 'Rating', 'Timestamp'])"
   ]
  },
  {
   "cell_type": "markdown",
   "metadata": {},
   "source": [
    "## step 3: make dataset"
   ]
  },
  {
   "cell_type": "code",
   "execution_count": 4,
   "metadata": {},
   "outputs": [],
   "source": [
    "dataset = pd.merge(ratings, users, on='UserID')\n",
    "dataset = pd.merge(dataset, movies, on='MovieID')"
   ]
  },
  {
   "cell_type": "markdown",
   "metadata": {},
   "source": [
    "## subsample(optional)"
   ]
  },
  {
   "cell_type": "code",
   "execution_count": 5,
   "metadata": {},
   "outputs": [],
   "source": [
    "dataset = dataset.iloc[5000:10000, :]"
   ]
  },
  {
   "cell_type": "markdown",
   "metadata": {},
   "source": [
    "## step 4: make features and dataloader"
   ]
  },
  {
   "cell_type": "code",
   "execution_count": 6,
   "metadata": {},
   "outputs": [
    {
     "name": "stdout",
     "output_type": "stream",
     "text": [
      "Making dataset Done!\n"
     ]
    }
   ],
   "source": [
    "sparse_features = ['UserID', 'Gender', 'Age', 'Occupation', 'Zip-code', 'MovieID']\n",
    "sequence_features = ['Genres']\n",
    "dataset = fillna(dataset, dataset.columns, fill_v='unk')\n",
    "features = FeatureDict(sparse_features, None, sequence_features)\n",
    "input, _ = make_datasets(dataset, features, sep='|')\n",
    "# loader = make_dataloader(input, dataset['Rating'].values, batch_size=64, shuffle=True)"
   ]
  },
  {
   "cell_type": "markdown",
   "metadata": {},
   "source": [
    "## step 5: build model"
   ]
  },
  {
   "cell_type": "code",
   "execution_count": 7,
   "metadata": {},
   "outputs": [
    {
     "name": "stdout",
     "output_type": "stream",
     "text": [
      "EmbeddingLayer(\n",
      "  (sparse_embeds): ModuleList(\n",
      "    (0): EmbeddingDropout(\n",
      "      (emb): Embedding(3205, 147)\n",
      "    )\n",
      "    (1): EmbeddingDropout(\n",
      "      (emb): Embedding(2, 2)\n",
      "    )\n",
      "    (2): EmbeddingDropout(\n",
      "      (emb): Embedding(7, 5)\n",
      "    )\n",
      "    (3): EmbeddingDropout(\n",
      "      (emb): Embedding(21, 9)\n",
      "    )\n",
      "    (4): EmbeddingDropout(\n",
      "      (emb): Embedding(2153, 118)\n",
      "    )\n",
      "    (5): EmbeddingDropout(\n",
      "      (emb): Embedding(4, 3)\n",
      "    )\n",
      "  )\n",
      "  (sequence_embeds): ModuleList(\n",
      "    (0): Embedding(7, 5)\n",
      "  )\n",
      ")\n"
     ]
    }
   ],
   "source": [
    "model = EmbeddingLayer(input, emb_drop=0.1).to(defaults.device)\n",
    "print(model)\n",
    "out = model(input)"
   ]
  },
  {
   "cell_type": "code",
   "execution_count": 8,
   "metadata": {},
   "outputs": [
    {
     "data": {
      "text/plain": [
       "tensor([[-0.8287,  0.3714, -0.7944,  0.5302, -0.1847],\n",
       "        [-0.8287,  0.3714, -0.7944,  0.5302, -0.1847],\n",
       "        [-0.8287,  0.3714, -0.7944,  0.5302, -0.1847],\n",
       "        ...,\n",
       "        [-0.4850, -0.0608,  1.1737,  0.4636, -0.4604],\n",
       "        [-0.4850, -0.0608,  1.1737,  0.4636, -0.4604],\n",
       "        [-0.4850, -0.0608,  1.1737,  0.4636, -0.4604]], device='cuda:0',\n",
       "       grad_fn=<SliceBackward>)"
      ]
     },
     "execution_count": 8,
     "metadata": {},
     "output_type": "execute_result"
    }
   ],
   "source": [
    "out[:, -5:]"
   ]
  },
  {
   "cell_type": "code",
   "execution_count": 9,
   "metadata": {},
   "outputs": [],
   "source": [
    "ly = EmbeddingDropout(torch.nn.Embedding(7, 5), 0.1)"
   ]
  },
  {
   "cell_type": "code",
   "execution_count": 10,
   "metadata": {},
   "outputs": [
    {
     "data": {
      "text/plain": [
       "EmbeddingDropout(\n",
       "  (emb): Embedding(7, 5)\n",
       ")"
      ]
     },
     "execution_count": 10,
     "metadata": {},
     "output_type": "execute_result"
    }
   ],
   "source": [
    "ly"
   ]
  },
  {
   "cell_type": "code",
   "execution_count": 11,
   "metadata": {},
   "outputs": [
    {
     "data": {
      "text/plain": [
       "Parameter containing:\n",
       "tensor([[ 0.0122,  0.7963, -0.9860,  2.5023,  0.9121],\n",
       "        [-0.2414, -1.1864, -0.0428,  1.4428,  0.6048],\n",
       "        [-3.1064, -0.8661, -0.4674, -0.6350, -0.0244],\n",
       "        [-1.4281, -0.2473,  1.4546,  0.1025, -0.1300],\n",
       "        [-2.0995,  0.1254,  0.0183, -0.6482,  0.9680],\n",
       "        [ 0.2651, -2.6695, -0.7403, -1.3880,  0.3184],\n",
       "        [-0.6377,  0.6056,  0.6045, -0.6367, -0.1732]], requires_grad=True)"
      ]
     },
     "execution_count": 11,
     "metadata": {},
     "output_type": "execute_result"
    }
   ],
   "source": [
    "ly.emb.weight"
   ]
  },
  {
   "cell_type": "code",
   "execution_count": 12,
   "metadata": {},
   "outputs": [
    {
     "data": {
      "text/plain": [
       "array([[0, 0, 1, ..., 1, 0, 0],\n",
       "       [0, 0, 1, ..., 1, 0, 0],\n",
       "       [0, 0, 1, ..., 1, 0, 0],\n",
       "       ...,\n",
       "       [0, 0, 0, ..., 1, 1, 0],\n",
       "       [0, 0, 0, ..., 1, 1, 0],\n",
       "       [0, 0, 0, ..., 1, 1, 0]], dtype=int64)"
      ]
     },
     "execution_count": 12,
     "metadata": {},
     "output_type": "execute_result"
    }
   ],
   "source": [
    "input.sequence_data.data"
   ]
  },
  {
   "cell_type": "code",
   "execution_count": 13,
   "metadata": {},
   "outputs": [],
   "source": [
    "y = torch.as_tensor(input.sequence_data.data).float()"
   ]
  },
  {
   "cell_type": "code",
   "execution_count": 14,
   "metadata": {},
   "outputs": [
    {
     "data": {
      "text/plain": [
       "tensor([[-2.2113, -0.3294,  0.3352, -0.3936,  0.2712],\n",
       "        [-2.2113, -0.3294,  0.3352, -0.3936,  0.2712],\n",
       "        [-2.2113, -0.3294,  0.3352, -0.3936,  0.2712],\n",
       "        ...,\n",
       "        [-0.9172, -1.2720, -0.3610, -1.0181,  0.6432],\n",
       "        [-0.9172, -1.2720, -0.3610, -1.0181,  0.6432],\n",
       "        [-0.9172, -1.2720, -0.3610, -1.0181,  0.6432]], grad_fn=<DivBackward0>)"
      ]
     },
     "execution_count": 14,
     "metadata": {},
     "output_type": "execute_result"
    }
   ],
   "source": [
    "y @ ly.emb.weight/y.sum(1).view(-1,1)"
   ]
  },
  {
   "cell_type": "code",
   "execution_count": 15,
   "metadata": {},
   "outputs": [
    {
     "data": {
      "text/plain": [
       "[7]"
      ]
     },
     "execution_count": 15,
     "metadata": {},
     "output_type": "execute_result"
    }
   ],
   "source": [
    "input.sequence_data.nunique"
   ]
  },
  {
   "cell_type": "code",
   "execution_count": 16,
   "metadata": {},
   "outputs": [],
   "source": [
    "from sklearn.feature_extraction.text import CountVectorizer\n",
    "import numpy as np\n",
    "def sequence_feature_encoding(data, features_names, sep: str = ','):\n",
    "    \"\"\"Encoding for sequence features.\"\"\"\n",
    "\n",
    "    if not features_names:\n",
    "        return None\n",
    "    data_value, nuniques = [], []\n",
    "    for feature in features_names:\n",
    "        vocab = set.union(*[set(str(x).strip().split(sep=sep)) for x in data[feature]])\n",
    "        vec = CountVectorizer(vocabulary=vocab)\n",
    "        multi_hot = vec.transform(data[feature])\n",
    "        data_value.append(multi_hot.toarray())\n",
    "        nuniques.append(len(vocab))\n",
    "    data_meta = DataMeta(np.hstack(data_value), None, features_names, nuniques)\n",
    "    return data_meta"
   ]
  },
  {
   "cell_type": "code",
   "execution_count": 17,
   "metadata": {},
   "outputs": [
    {
     "data": {
      "text/html": [
       "<div>\n",
       "<style scoped>\n",
       "    .dataframe tbody tr th:only-of-type {\n",
       "        vertical-align: middle;\n",
       "    }\n",
       "\n",
       "    .dataframe tbody tr th {\n",
       "        vertical-align: top;\n",
       "    }\n",
       "\n",
       "    .dataframe thead th {\n",
       "        text-align: right;\n",
       "    }\n",
       "</style>\n",
       "<table border=\"1\" class=\"dataframe\">\n",
       "  <thead>\n",
       "    <tr style=\"text-align: right;\">\n",
       "      <th></th>\n",
       "      <th>UserID</th>\n",
       "      <th>MovieID</th>\n",
       "      <th>Rating</th>\n",
       "      <th>Timestamp</th>\n",
       "      <th>Gender</th>\n",
       "      <th>Age</th>\n",
       "      <th>Occupation</th>\n",
       "      <th>Zip-code</th>\n",
       "      <th>Title</th>\n",
       "      <th>Genres</th>\n",
       "    </tr>\n",
       "  </thead>\n",
       "  <tbody>\n",
       "    <tr>\n",
       "      <th>8756</th>\n",
       "      <td>2396</td>\n",
       "      <td>1</td>\n",
       "      <td>5</td>\n",
       "      <td>999463533</td>\n",
       "      <td>1</td>\n",
       "      <td>2</td>\n",
       "      <td>17</td>\n",
       "      <td>54</td>\n",
       "      <td>Ben-Hur (1959)</td>\n",
       "      <td>Action|Adventure|Drama</td>\n",
       "    </tr>\n",
       "    <tr>\n",
       "      <th>8845</th>\n",
       "      <td>2867</td>\n",
       "      <td>1</td>\n",
       "      <td>4</td>\n",
       "      <td>959889599</td>\n",
       "      <td>1</td>\n",
       "      <td>3</td>\n",
       "      <td>1</td>\n",
       "      <td>581</td>\n",
       "      <td>Ben-Hur (1959)</td>\n",
       "      <td>Action|Adventure|Drama</td>\n",
       "    </tr>\n",
       "    <tr>\n",
       "      <th>7664</th>\n",
       "      <td>2417</td>\n",
       "      <td>0</td>\n",
       "      <td>5</td>\n",
       "      <td>964113264</td>\n",
       "      <td>1</td>\n",
       "      <td>2</td>\n",
       "      <td>14</td>\n",
       "      <td>2061</td>\n",
       "      <td>Princess Bride, The (1987)</td>\n",
       "      <td>Action|Adventure|Comedy|Romance</td>\n",
       "    </tr>\n",
       "    <tr>\n",
       "      <th>9482</th>\n",
       "      <td>1127</td>\n",
       "      <td>3</td>\n",
       "      <td>5</td>\n",
       "      <td>974177311</td>\n",
       "      <td>1</td>\n",
       "      <td>2</td>\n",
       "      <td>7</td>\n",
       "      <td>1637</td>\n",
       "      <td>Christmas Story, A (1983)</td>\n",
       "      <td>Comedy|Drama</td>\n",
       "    </tr>\n",
       "    <tr>\n",
       "      <th>7709</th>\n",
       "      <td>2491</td>\n",
       "      <td>0</td>\n",
       "      <td>3</td>\n",
       "      <td>963196099</td>\n",
       "      <td>0</td>\n",
       "      <td>5</td>\n",
       "      <td>0</td>\n",
       "      <td>133</td>\n",
       "      <td>Princess Bride, The (1987)</td>\n",
       "      <td>Action|Adventure|Comedy|Romance</td>\n",
       "    </tr>\n",
       "    <tr>\n",
       "      <th>8167</th>\n",
       "      <td>3133</td>\n",
       "      <td>0</td>\n",
       "      <td>3</td>\n",
       "      <td>957361499</td>\n",
       "      <td>1</td>\n",
       "      <td>2</td>\n",
       "      <td>1</td>\n",
       "      <td>1483</td>\n",
       "      <td>Princess Bride, The (1987)</td>\n",
       "      <td>Action|Adventure|Comedy|Romance</td>\n",
       "    </tr>\n",
       "    <tr>\n",
       "      <th>5151</th>\n",
       "      <td>1674</td>\n",
       "      <td>2</td>\n",
       "      <td>4</td>\n",
       "      <td>967416107</td>\n",
       "      <td>1</td>\n",
       "      <td>1</td>\n",
       "      <td>12</td>\n",
       "      <td>1123</td>\n",
       "      <td>Bug's Life, A (1998)</td>\n",
       "      <td>Animation|Children's|Comedy</td>\n",
       "    </tr>\n",
       "    <tr>\n",
       "      <th>6165</th>\n",
       "      <td>319</td>\n",
       "      <td>0</td>\n",
       "      <td>4</td>\n",
       "      <td>975607581</td>\n",
       "      <td>1</td>\n",
       "      <td>3</td>\n",
       "      <td>16</td>\n",
       "      <td>614</td>\n",
       "      <td>Princess Bride, The (1987)</td>\n",
       "      <td>Action|Adventure|Comedy|Romance</td>\n",
       "    </tr>\n",
       "    <tr>\n",
       "      <th>8179</th>\n",
       "      <td>3148</td>\n",
       "      <td>0</td>\n",
       "      <td>5</td>\n",
       "      <td>957213786</td>\n",
       "      <td>0</td>\n",
       "      <td>4</td>\n",
       "      <td>15</td>\n",
       "      <td>1476</td>\n",
       "      <td>Princess Bride, The (1987)</td>\n",
       "      <td>Action|Adventure|Comedy|Romance</td>\n",
       "    </tr>\n",
       "    <tr>\n",
       "      <th>9677</th>\n",
       "      <td>1652</td>\n",
       "      <td>3</td>\n",
       "      <td>5</td>\n",
       "      <td>967468418</td>\n",
       "      <td>1</td>\n",
       "      <td>2</td>\n",
       "      <td>14</td>\n",
       "      <td>217</td>\n",
       "      <td>Christmas Story, A (1983)</td>\n",
       "      <td>Comedy|Drama</td>\n",
       "    </tr>\n",
       "  </tbody>\n",
       "</table>\n",
       "</div>"
      ],
      "text/plain": [
       "      UserID  MovieID  Rating  Timestamp  Gender  Age  Occupation  Zip-code  \\\n",
       "8756    2396        1       5  999463533       1    2          17        54   \n",
       "8845    2867        1       4  959889599       1    3           1       581   \n",
       "7664    2417        0       5  964113264       1    2          14      2061   \n",
       "9482    1127        3       5  974177311       1    2           7      1637   \n",
       "7709    2491        0       3  963196099       0    5           0       133   \n",
       "8167    3133        0       3  957361499       1    2           1      1483   \n",
       "5151    1674        2       4  967416107       1    1          12      1123   \n",
       "6165     319        0       4  975607581       1    3          16       614   \n",
       "8179    3148        0       5  957213786       0    4          15      1476   \n",
       "9677    1652        3       5  967468418       1    2          14       217   \n",
       "\n",
       "                           Title                           Genres  \n",
       "8756              Ben-Hur (1959)           Action|Adventure|Drama  \n",
       "8845              Ben-Hur (1959)           Action|Adventure|Drama  \n",
       "7664  Princess Bride, The (1987)  Action|Adventure|Comedy|Romance  \n",
       "9482   Christmas Story, A (1983)                     Comedy|Drama  \n",
       "7709  Princess Bride, The (1987)  Action|Adventure|Comedy|Romance  \n",
       "8167  Princess Bride, The (1987)  Action|Adventure|Comedy|Romance  \n",
       "5151        Bug's Life, A (1998)      Animation|Children's|Comedy  \n",
       "6165  Princess Bride, The (1987)  Action|Adventure|Comedy|Romance  \n",
       "8179  Princess Bride, The (1987)  Action|Adventure|Comedy|Romance  \n",
       "9677   Christmas Story, A (1983)                     Comedy|Drama  "
      ]
     },
     "execution_count": 17,
     "metadata": {},
     "output_type": "execute_result"
    }
   ],
   "source": [
    "dataset.sample(10)"
   ]
  },
  {
   "cell_type": "code",
   "execution_count": 18,
   "metadata": {},
   "outputs": [],
   "source": [
    "x = sequence_feature_encoding(dataset, ['Genres'], '|')"
   ]
  },
  {
   "cell_type": "code",
   "execution_count": 19,
   "metadata": {},
   "outputs": [
    {
     "data": {
      "text/plain": [
       "{'Action',\n",
       " 'Adventure',\n",
       " 'Animation',\n",
       " \"Children's\",\n",
       " 'Comedy',\n",
       " 'Drama',\n",
       " 'Romance'}"
      ]
     },
     "execution_count": 19,
     "metadata": {},
     "output_type": "execute_result"
    }
   ],
   "source": [
    "vocab = set.union(*[set(str(x).strip().split(sep='|')) for x in dataset['Genres']])\n",
    "vocab"
   ]
  },
  {
   "cell_type": "code",
   "execution_count": 20,
   "metadata": {},
   "outputs": [],
   "source": [
    "vec = CountVectorizer(vocabulary=vocab)"
   ]
  },
  {
   "cell_type": "code",
   "execution_count": 21,
   "metadata": {},
   "outputs": [],
   "source": [
    "# [','.join(str(x).strip().split(sep='|')) for x in dataset['Genres']]"
   ]
  },
  {
   "cell_type": "code",
   "execution_count": 22,
   "metadata": {},
   "outputs": [
    {
     "data": {
      "text/plain": [
       "CountVectorizer(analyzer='word', binary=False, decode_error='strict',\n",
       "        dtype=<class 'numpy.int64'>, encoding='utf-8', input='content',\n",
       "        lowercase=True, max_df=1.0, max_features=None, min_df=1,\n",
       "        ngram_range=(1, 1), preprocessor=None, stop_words=None,\n",
       "        strip_accents=None, token_pattern='(?u)\\\\b\\\\w\\\\w+\\\\b',\n",
       "        tokenizer=None,\n",
       "        vocabulary={\"Children's\", 'Romance', 'Adventure', 'Drama', 'Animation', 'Action', 'Comedy'})"
      ]
     },
     "execution_count": 22,
     "metadata": {},
     "output_type": "execute_result"
    }
   ],
   "source": [
    "vec.fit([' '.join(str(x).strip().split(sep='|')) for x in dataset['Genres']])"
   ]
  },
  {
   "cell_type": "code",
   "execution_count": 23,
   "metadata": {},
   "outputs": [],
   "source": [
    "multi_hot = vec.transform(['Action Comedy', 'Action'])"
   ]
  },
  {
   "cell_type": "code",
   "execution_count": 24,
   "metadata": {},
   "outputs": [
    {
     "data": {
      "text/plain": [
       "[array([0, 0, 0, 0, 0, 0, 0]), array([0, 0, 0, 0, 0, 0, 0])]"
      ]
     },
     "execution_count": 24,
     "metadata": {},
     "output_type": "execute_result"
    }
   ],
   "source": [
    "list(multi_hot.toarray())"
   ]
  },
  {
   "cell_type": "code",
   "execution_count": 25,
   "metadata": {},
   "outputs": [
    {
     "data": {
      "text/plain": [
       "array([[0, 1, 1, 1, 0, 0, 0, 0],\n",
       "       [0, 0, 0, 0, 1, 1, 1, 0],\n",
       "       [1, 0, 0, 0, 0, 0, 0, 1]], dtype=int64)"
      ]
     },
     "execution_count": 25,
     "metadata": {},
     "output_type": "execute_result"
    }
   ],
   "source": [
    "CountVectorizer(token_pattern=r'(?u)\\b\\w+\\b', analyzer='word').fit_transform(['1 2 31', 'a, b, c3', '中 0']).toarray()"
   ]
  },
  {
   "cell_type": "code",
   "execution_count": 26,
   "metadata": {},
   "outputs": [],
   "source": [
    "corpus = [' '.join(str(x).strip().split(sep='|')) for x in dataset['Genres']]"
   ]
  },
  {
   "cell_type": "code",
   "execution_count": 27,
   "metadata": {},
   "outputs": [],
   "source": [
    "vocab = set.union(*[set(x.split(' ')) for x in corpus])"
   ]
  },
  {
   "cell_type": "code",
   "execution_count": 28,
   "metadata": {},
   "outputs": [],
   "source": [
    "vec = CountVectorizer(token_pattern=r'(?u)\\b[\\w\\']+\\b')\n",
    "# vec = CountVectorizer(vocabulary=vocab)"
   ]
  },
  {
   "cell_type": "code",
   "execution_count": 29,
   "metadata": {},
   "outputs": [
    {
     "data": {
      "text/plain": [
       "array([[0, 0, 1, ..., 1, 0, 0],\n",
       "       [0, 0, 1, ..., 1, 0, 0],\n",
       "       [0, 0, 1, ..., 1, 0, 0],\n",
       "       ...,\n",
       "       [0, 0, 0, ..., 1, 1, 0],\n",
       "       [0, 0, 0, ..., 1, 1, 0],\n",
       "       [0, 0, 0, ..., 1, 1, 0]], dtype=int64)"
      ]
     },
     "execution_count": 29,
     "metadata": {},
     "output_type": "execute_result"
    }
   ],
   "source": [
    "vec.fit_transform(corpus).toarray()"
   ]
  },
  {
   "cell_type": "code",
   "execution_count": 30,
   "metadata": {},
   "outputs": [
    {
     "data": {
      "text/plain": [
       "{'animation': 2,\n",
       " \"children's\": 3,\n",
       " 'comedy': 4,\n",
       " 'action': 0,\n",
       " 'adventure': 1,\n",
       " 'romance': 6,\n",
       " 'drama': 5}"
      ]
     },
     "execution_count": 30,
     "metadata": {},
     "output_type": "execute_result"
    }
   ],
   "source": [
    "vec.vocabulary_"
   ]
  },
  {
   "cell_type": "code",
   "execution_count": null,
   "metadata": {},
   "outputs": [],
   "source": []
  }
 ],
 "metadata": {
  "kernelspec": {
   "display_name": "Python 3",
   "language": "python",
   "name": "python3"
  },
  "language_info": {
   "codemirror_mode": {
    "name": "ipython",
    "version": 3
   },
   "file_extension": ".py",
   "mimetype": "text/x-python",
   "name": "python",
   "nbconvert_exporter": "python",
   "pygments_lexer": "ipython3",
   "version": "3.6.6"
  }
 },
 "nbformat": 4,
 "nbformat_minor": 2
}
