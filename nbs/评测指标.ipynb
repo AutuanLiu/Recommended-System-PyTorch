{
 "cells": [
  {
   "cell_type": "code",
   "execution_count": 1,
   "metadata": {},
   "outputs": [],
   "source": [
    "%matplotlib inline\n",
    "%reload_ext autoreload\n",
    "%autoreload 2\n",
    "# 多行输出\n",
    "from IPython.core.interactiveshell import InteractiveShell\n",
    "InteractiveShell.ast_node_interactivity = \"all\""
   ]
  },
  {
   "cell_type": "markdown",
   "metadata": {},
   "source": [
    "# 评测指标"
   ]
  },
  {
   "cell_type": "markdown",
   "metadata": {},
   "source": [
    "1. 用户满意度（在线）\n",
    "    \n",
    "    - 问卷调查\n",
    "    - 用购买率度量用户的满意度\n",
    "    - 用户反馈界面收集用户满意度\n",
    "    - 点击率\n",
    "    - 用户停留时间\n",
    "    - 转化率"
   ]
  },
  {
   "cell_type": "markdown",
   "metadata": {},
   "source": [
    "2. 预测准确度（离线）\n",
    "    - 评分预测\n",
    "    \n",
    "    评分预测的预测准确度一般通过均方根误差（RMSE）和平均绝对误差（MAE）计算\n",
    "    $$\n",
    "    \\operatorname{RMSE}=\\frac{\\sqrt{\\sum_{u, i\\in T}\\left(r_{u i}-\\hat{r}_{u i}\\right)^{2}}}{|T|}\n",
    "    $$\n",
    "    $$\n",
    "    \\mathrm{MAE}=\\frac{\\sum_{u, i \\in T}\\left|r_{u i}-\\hat{r}_{u i}\\right|}{|T|}\n",
    "    $$\n",
    "\n",
    "    $r_{u i}$ 用户 u 对物品 i 的实际评分，而 $\\hat{r}_{u i}$ 是推荐算法给出的预测评分,RMSE加大了对预测不准的用户物品评分的惩罚（平方项的惩罚），因而对系统的评测更加苛刻 "
   ]
  },
  {
   "cell_type": "markdown",
   "metadata": {},
   "source": [
    "3. TopN 推荐\n",
    "\n",
    "TopN推荐的预测准确率一般通过准确率（precision） /召回率（recall）度量\n",
    "\n",
    "$$\n",
    "\\operatorname{Recall}=\\frac{\\sum_{u \\in U}|R(u) \\cap T(u)|}{\\sum_{u \\in U}|T(u)|}\n",
    "$$\n",
    "\n",
    "$$\n",
    "\\operatorname{Precision}=\\frac{\\sum_{u \\in U}|R(u) \\cap T(u)|}{\\sum_{u \\in U}|R(u)|}\n",
    "$$\n",
    "\n",
    "R(u) 是根据用户在训练集上的行为给用户作出的推荐列表，而 T(u) 是用户在测试集上的行为列表\n",
    "\n",
    "为了全面评测TopN推荐的准确率和召回率，一般会选取不同的推荐列表长度 N，计算出一组准确率/召回率，然后画出准确率/召回率曲线（precision/recall curve）\n",
    "\n",
    "预测用户是否会看一部电影，应该比预测用户看了电影后会给它什么评分更加重要。TopN 预测更符合实际要求"
   ]
  },
  {
   "cell_type": "markdown",
   "metadata": {},
   "source": [
    "4. 覆盖率\n",
    "\n",
    "覆盖率定义为推荐系统能够推荐出来的物品占总物品集合的比例。\n",
    "\n",
    "$$\n",
    "\\operatorname{Coverage}=\\frac{\\left|U_{u \\in U} R(u)\\right|}{|I|}\n",
    "$$\n",
    "\n",
    "\n",
    "   - 覆盖率是一个内容提供商会关心的指标.覆盖率为100%的推荐系统可以将每个物品都推荐给至少一个用户\n",
    "   - 热门排行榜的推荐覆盖率是很低的，它只会推荐那些热门的物品，这些物品在总物品中占的比例很小\n",
    "   - 一个好的推荐系统不仅需要有比较高的用户满意度，也要有较高的覆盖率\n",
    "\n",
    "   - 信息熵\n",
    "\n",
    "    $$\n",
    "    H=-\\sum_{i=1}^{n} p(i) \\log p(i)\n",
    "    $$\n",
    "\n",
    "   p(i) 是物品 i 的流行度除以所有物品流行度之和\n",
    "\n",
    "   - 基尼系数\n",
    "\n",
    "    $$\n",
    "    G=\\frac{1}{n-1} \\sum_{j=1}^{n}(2 j-n-1) p\\left(i_{j}\\right)\n",
    "    $$\n",
    "\n",
    "     $i_j$ 是按照物品流行度 p() 从小到大排序的物品列表中第 j 个物品"
   ]
  },
  {
   "cell_type": "markdown",
   "metadata": {},
   "source": [
    "5. 多样性\n",
    "\n",
    "多样性描述了推荐列表中物品两两之间的不相似性\n",
    "\n",
    "6. 新颖性\n",
    "\n",
    "新颖的推荐是指给用户推荐那些他们以前没有听说过的物品\n",
    "\n",
    "7. 惊喜度\n",
    "\n",
    "如果推荐结果和用户的历史兴趣不相似，但却让用户觉得满意，那么就可以说推荐结果的惊喜度很高，而推荐的新颖性仅仅取决于用户是否听说过这个推荐结果\n",
    "\n",
    "8. 信任度\n",
    "\n",
    "度量推荐系统的信任度只能通过问卷调查的方式，询问用户是否信任推荐系统的推荐结果"
   ]
  },
  {
   "cell_type": "markdown",
   "metadata": {},
   "source": [
    "9. 评测维度\n",
    "\n",
    "    - 用户维度\n",
    "    - 物品维度\n",
    "    - 时间维度\n",
    "\n",
    "在评测系统中还需要考虑评测维度，比如一个推荐算法，虽然整体性能不好，但可能在某种情况下性能比较好，而增加评测维度的目的就是知道一个算法在什么情况下性能最好。"
   ]
  },
  {
   "cell_type": "code",
   "execution_count": null,
   "metadata": {},
   "outputs": [],
   "source": []
  }
 ],
 "metadata": {
  "kernelspec": {
   "display_name": "Python 3",
   "language": "python",
   "name": "python3"
  },
  "language_info": {
   "codemirror_mode": {
    "name": "ipython",
    "version": 3
   },
   "file_extension": ".py",
   "mimetype": "text/x-python",
   "name": "python",
   "nbconvert_exporter": "python",
   "pygments_lexer": "ipython3",
   "version": "3.6.6"
  }
 },
 "nbformat": 4,
 "nbformat_minor": 2
}
